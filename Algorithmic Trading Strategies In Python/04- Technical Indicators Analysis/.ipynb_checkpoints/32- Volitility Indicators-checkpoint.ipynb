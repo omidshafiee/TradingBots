{
 "cells": [
  {
   "cell_type": "code",
   "execution_count": 5,
   "id": "dcb00c3d-3580-42c9-98fc-0e926350f7cb",
   "metadata": {},
   "outputs": [],
   "source": [
    "import numpy as np\n",
    "import pandas as pd\n",
    "import pandas_ta as ta\n",
    "import os\n",
    "\n",
    "import matplotlib.pyplot as plt\n",
    "import seaborn as sns\n",
    "\n",
    "import plotly.graph_objects as go\n",
    "from plotly.subplots import make_subplots\n",
    "\n",
    "%matplotlib inline"
   ]
  },
  {
   "cell_type": "code",
   "execution_count": 2,
   "id": "3b06f6d4-e578-4d64-b660-05454acf53b3",
   "metadata": {},
   "outputs": [],
   "source": [
    "data_dir = os.path.join('D:', os.path.sep, 'Prg', 'Trading Bots', 'Market Dataset', 'dukascopy')\n",
    "EUR_USD_1H = os.path.join(data_dir, 'EURUSD_Candlestick_1_Hour_BID_01.05.2023-18.05.2024.csv')"
   ]
  },
  {
   "cell_type": "code",
   "execution_count": 3,
   "id": "2436bf0c-346a-466e-a207-d19b9637140b",
   "metadata": {},
   "outputs": [],
   "source": [
    "df_1H = pd.read_csv(EUR_USD_1H)"
   ]
  },
  {
   "cell_type": "code",
   "execution_count": 4,
   "id": "be2597ba-e720-40dd-a51e-ca3604f2d5b4",
   "metadata": {},
   "outputs": [
    {
     "name": "stdout",
     "output_type": "stream",
     "text": [
      "(6558, 7)\n"
     ]
    },
    {
     "data": {
      "text/html": [
       "<div>\n",
       "<style scoped>\n",
       "    .dataframe tbody tr th:only-of-type {\n",
       "        vertical-align: middle;\n",
       "    }\n",
       "\n",
       "    .dataframe tbody tr th {\n",
       "        vertical-align: top;\n",
       "    }\n",
       "\n",
       "    .dataframe thead th {\n",
       "        text-align: right;\n",
       "    }\n",
       "</style>\n",
       "<table border=\"1\" class=\"dataframe\">\n",
       "  <thead>\n",
       "    <tr style=\"text-align: right;\">\n",
       "      <th></th>\n",
       "      <th>Gmt time</th>\n",
       "      <th>Open</th>\n",
       "      <th>High</th>\n",
       "      <th>Low</th>\n",
       "      <th>Close</th>\n",
       "      <th>Volume</th>\n",
       "      <th>Date</th>\n",
       "    </tr>\n",
       "  </thead>\n",
       "  <tbody>\n",
       "  </tbody>\n",
       "</table>\n",
       "</div>"
      ],
      "text/plain": [
       "Empty DataFrame\n",
       "Columns: [Gmt time, Open, High, Low, Close, Volume, Date]\n",
       "Index: []"
      ]
     },
     "execution_count": 4,
     "metadata": {},
     "output_type": "execute_result"
    }
   ],
   "source": [
    "# Remove Holidays from 1H timeframe data.\n",
    "df_1H['Date'] = df_1H['Gmt time'].str.split(' ', expand=True)[0]\n",
    "holidays =  (df_1H[df_1H['Volume'] == 0].groupby('Date').count()['Close'] >= 24).index\n",
    "df_ops =  df_1H[~ df_1H['Date'].isin(holidays)].copy()\n",
    "print(df_ops.shape)\n",
    "df_ops[df_ops['Volume'] == 0]"
   ]
  },
  {
   "cell_type": "markdown",
   "id": "81a43a37-1974-4af1-b029-1e943db1c631",
   "metadata": {},
   "source": [
    "---------------------\n",
    "##  Bollinger Bands\n",
    "\n",
    "**Bollinger Bands are envelopes plotted at a standard deviation level above and below a simple moving average of the price**"
   ]
  },
  {
   "cell_type": "code",
   "execution_count": null,
   "id": "b9ddf058-86ec-4892-9101-c926f96d670f",
   "metadata": {},
   "outputs": [],
   "source": []
  }
 ],
 "metadata": {
  "kernelspec": {
   "display_name": "Python 3 (ipykernel)",
   "language": "python",
   "name": "python3"
  },
  "language_info": {
   "codemirror_mode": {
    "name": "ipython",
    "version": 3
   },
   "file_extension": ".py",
   "mimetype": "text/x-python",
   "name": "python",
   "nbconvert_exporter": "python",
   "pygments_lexer": "ipython3",
   "version": "3.11.7"
  }
 },
 "nbformat": 4,
 "nbformat_minor": 5
}
