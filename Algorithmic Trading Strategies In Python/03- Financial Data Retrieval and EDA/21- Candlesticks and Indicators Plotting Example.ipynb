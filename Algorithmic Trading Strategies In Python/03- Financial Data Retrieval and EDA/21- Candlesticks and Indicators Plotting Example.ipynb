{
 "cells": [
  {
   "cell_type": "code",
   "execution_count": 1,
   "id": "edabde44-d154-4d41-b193-a18de09a6578",
   "metadata": {},
   "outputs": [],
   "source": [
    "import numpy as np\n",
    "import pandas as pd\n",
    "import pandas_ta as ta\n",
    "\n",
    "import plotly.graph_objects as go"
   ]
  },
  {
   "cell_type": "code",
   "execution_count": 2,
   "id": "d767ac00-9b3d-4e5e-98b4-2b956ae6b2bb",
   "metadata": {},
   "outputs": [],
   "source": [
    "df = pd.read_csv('../dataset/dukascopy/EURUSD_Candlestick_1_Hour_BID_01.05.2023-18.05.2024.csv')"
   ]
  },
  {
   "cell_type": "code",
   "execution_count": 3,
   "id": "725276b5-7556-41dd-8933-2fae8ec09f8a",
   "metadata": {},
   "outputs": [
    {
     "data": {
      "text/plain": [
       "(9216, 6)"
      ]
     },
     "execution_count": 3,
     "metadata": {},
     "output_type": "execute_result"
    }
   ],
   "source": [
    "df.shape"
   ]
  },
  {
   "cell_type": "code",
   "execution_count": 4,
   "id": "729de2f0-486d-4993-829f-733c0b5fe2c3",
   "metadata": {},
   "outputs": [
    {
     "data": {
      "text/html": [
       "<div>\n",
       "<style scoped>\n",
       "    .dataframe tbody tr th:only-of-type {\n",
       "        vertical-align: middle;\n",
       "    }\n",
       "\n",
       "    .dataframe tbody tr th {\n",
       "        vertical-align: top;\n",
       "    }\n",
       "\n",
       "    .dataframe thead th {\n",
       "        text-align: right;\n",
       "    }\n",
       "</style>\n",
       "<table border=\"1\" class=\"dataframe\">\n",
       "  <thead>\n",
       "    <tr style=\"text-align: right;\">\n",
       "      <th></th>\n",
       "      <th>Gmt time</th>\n",
       "      <th>Open</th>\n",
       "      <th>High</th>\n",
       "      <th>Low</th>\n",
       "      <th>Close</th>\n",
       "      <th>Volume</th>\n",
       "    </tr>\n",
       "  </thead>\n",
       "  <tbody>\n",
       "    <tr>\n",
       "      <th>9211</th>\n",
       "      <td>18.05.2024 19:00:00.000</td>\n",
       "      <td>1.08674</td>\n",
       "      <td>1.08674</td>\n",
       "      <td>1.08674</td>\n",
       "      <td>1.08674</td>\n",
       "      <td>0.0</td>\n",
       "    </tr>\n",
       "    <tr>\n",
       "      <th>9212</th>\n",
       "      <td>18.05.2024 20:00:00.000</td>\n",
       "      <td>1.08674</td>\n",
       "      <td>1.08674</td>\n",
       "      <td>1.08674</td>\n",
       "      <td>1.08674</td>\n",
       "      <td>0.0</td>\n",
       "    </tr>\n",
       "    <tr>\n",
       "      <th>9213</th>\n",
       "      <td>18.05.2024 21:00:00.000</td>\n",
       "      <td>1.08674</td>\n",
       "      <td>1.08674</td>\n",
       "      <td>1.08674</td>\n",
       "      <td>1.08674</td>\n",
       "      <td>0.0</td>\n",
       "    </tr>\n",
       "    <tr>\n",
       "      <th>9214</th>\n",
       "      <td>18.05.2024 22:00:00.000</td>\n",
       "      <td>1.08674</td>\n",
       "      <td>1.08674</td>\n",
       "      <td>1.08674</td>\n",
       "      <td>1.08674</td>\n",
       "      <td>0.0</td>\n",
       "    </tr>\n",
       "    <tr>\n",
       "      <th>9215</th>\n",
       "      <td>18.05.2024 23:00:00.000</td>\n",
       "      <td>1.08674</td>\n",
       "      <td>1.08674</td>\n",
       "      <td>1.08674</td>\n",
       "      <td>1.08674</td>\n",
       "      <td>0.0</td>\n",
       "    </tr>\n",
       "  </tbody>\n",
       "</table>\n",
       "</div>"
      ],
      "text/plain": [
       "                     Gmt time     Open     High      Low    Close  Volume\n",
       "9211  18.05.2024 19:00:00.000  1.08674  1.08674  1.08674  1.08674     0.0\n",
       "9212  18.05.2024 20:00:00.000  1.08674  1.08674  1.08674  1.08674     0.0\n",
       "9213  18.05.2024 21:00:00.000  1.08674  1.08674  1.08674  1.08674     0.0\n",
       "9214  18.05.2024 22:00:00.000  1.08674  1.08674  1.08674  1.08674     0.0\n",
       "9215  18.05.2024 23:00:00.000  1.08674  1.08674  1.08674  1.08674     0.0"
      ]
     },
     "execution_count": 4,
     "metadata": {},
     "output_type": "execute_result"
    }
   ],
   "source": [
    "df.tail()"
   ]
  },
  {
   "cell_type": "code",
   "execution_count": 5,
   "id": "574671d2-4d6a-476e-87fa-4524167efd78",
   "metadata": {},
   "outputs": [
    {
     "name": "stdout",
     "output_type": "stream",
     "text": [
      "<class 'pandas.core.frame.DataFrame'>\n",
      "RangeIndex: 9216 entries, 0 to 9215\n",
      "Data columns (total 6 columns):\n",
      " #   Column    Non-Null Count  Dtype  \n",
      "---  ------    --------------  -----  \n",
      " 0   Gmt time  9216 non-null   object \n",
      " 1   Open      9216 non-null   float64\n",
      " 2   High      9216 non-null   float64\n",
      " 3   Low       9216 non-null   float64\n",
      " 4   Close     9216 non-null   float64\n",
      " 5   Volume    9216 non-null   float64\n",
      "dtypes: float64(5), object(1)\n",
      "memory usage: 432.1+ KB\n"
     ]
    }
   ],
   "source": [
    "df.info()"
   ]
  },
  {
   "cell_type": "markdown",
   "id": "a7009793-ceea-47c8-a783-18e27ca22a6c",
   "metadata": {},
   "source": [
    "## Filter holidays\n",
    "\n",
    "**Volume is an indicator of liquity, also shows in which candle there was no trade**\n",
    "<br/>\n",
    "**In 1D timeframe, volume = 0 means day off or weekend.**"
   ]
  },
  {
   "cell_type": "code",
   "execution_count": 7,
   "id": "ee87db0a-bd5f-47fa-8f6d-11684f76e143",
   "metadata": {},
   "outputs": [],
   "source": [
    "# df[['Date', 'Time']] = df['Gmt time'].str.split(' ', expand=True)\n",
    "df['Date'] = df['Gmt time'].str.split(' ', expand=True)[0]\n"
   ]
  },
  {
   "cell_type": "code",
   "execution_count": 8,
   "id": "49bf7f11-f2bd-4a1a-bddf-f9960994fba6",
   "metadata": {},
   "outputs": [
    {
     "data": {
      "text/html": [
       "<div>\n",
       "<style scoped>\n",
       "    .dataframe tbody tr th:only-of-type {\n",
       "        vertical-align: middle;\n",
       "    }\n",
       "\n",
       "    .dataframe tbody tr th {\n",
       "        vertical-align: top;\n",
       "    }\n",
       "\n",
       "    .dataframe thead th {\n",
       "        text-align: right;\n",
       "    }\n",
       "</style>\n",
       "<table border=\"1\" class=\"dataframe\">\n",
       "  <thead>\n",
       "    <tr style=\"text-align: right;\">\n",
       "      <th></th>\n",
       "      <th>Gmt time</th>\n",
       "      <th>Open</th>\n",
       "      <th>High</th>\n",
       "      <th>Low</th>\n",
       "      <th>Close</th>\n",
       "      <th>Volume</th>\n",
       "      <th>Date</th>\n",
       "    </tr>\n",
       "  </thead>\n",
       "  <tbody>\n",
       "    <tr>\n",
       "      <th>0</th>\n",
       "      <td>01.05.2023 00:00:00.000</td>\n",
       "      <td>1.10106</td>\n",
       "      <td>1.10143</td>\n",
       "      <td>1.10045</td>\n",
       "      <td>1.10055</td>\n",
       "      <td>8127.1401</td>\n",
       "      <td>01.05.2023</td>\n",
       "    </tr>\n",
       "    <tr>\n",
       "      <th>1</th>\n",
       "      <td>01.05.2023 01:00:00.000</td>\n",
       "      <td>1.10055</td>\n",
       "      <td>1.10084</td>\n",
       "      <td>1.10020</td>\n",
       "      <td>1.10040</td>\n",
       "      <td>7000.5898</td>\n",
       "      <td>01.05.2023</td>\n",
       "    </tr>\n",
       "  </tbody>\n",
       "</table>\n",
       "</div>"
      ],
      "text/plain": [
       "                  Gmt time     Open     High      Low    Close     Volume  \\\n",
       "0  01.05.2023 00:00:00.000  1.10106  1.10143  1.10045  1.10055  8127.1401   \n",
       "1  01.05.2023 01:00:00.000  1.10055  1.10084  1.10020  1.10040  7000.5898   \n",
       "\n",
       "         Date  \n",
       "0  01.05.2023  \n",
       "1  01.05.2023  "
      ]
     },
     "execution_count": 8,
     "metadata": {},
     "output_type": "execute_result"
    }
   ],
   "source": [
    "df.head(2)"
   ]
  },
  {
   "cell_type": "code",
   "execution_count": 9,
   "id": "43721497-8540-4814-98a9-7d96d7c4f694",
   "metadata": {},
   "outputs": [
    {
     "name": "stdout",
     "output_type": "stream",
     "text": [
      "(5232, 7)\n"
     ]
    },
    {
     "data": {
      "text/html": [
       "<div>\n",
       "<style scoped>\n",
       "    .dataframe tbody tr th:only-of-type {\n",
       "        vertical-align: middle;\n",
       "    }\n",
       "\n",
       "    .dataframe tbody tr th {\n",
       "        vertical-align: top;\n",
       "    }\n",
       "\n",
       "    .dataframe thead th {\n",
       "        text-align: right;\n",
       "    }\n",
       "</style>\n",
       "<table border=\"1\" class=\"dataframe\">\n",
       "  <thead>\n",
       "    <tr style=\"text-align: right;\">\n",
       "      <th></th>\n",
       "      <th>Gmt time</th>\n",
       "      <th>Open</th>\n",
       "      <th>High</th>\n",
       "      <th>Low</th>\n",
       "      <th>Close</th>\n",
       "      <th>Volume</th>\n",
       "      <th>Date</th>\n",
       "    </tr>\n",
       "  </thead>\n",
       "  <tbody>\n",
       "  </tbody>\n",
       "</table>\n",
       "</div>"
      ],
      "text/plain": [
       "Empty DataFrame\n",
       "Columns: [Gmt time, Open, High, Low, Close, Volume, Date]\n",
       "Index: []"
      ]
     },
     "execution_count": 9,
     "metadata": {},
     "output_type": "execute_result"
    }
   ],
   "source": [
    "holidays =  (df[df['Volume'] == 0].groupby('Date').count()['Close'] >= 24).index\n",
    "df_ops =  df[~ df['Date'].isin(holidays)]\n",
    "print(df_ops.shape)\n",
    "df_ops[df_ops['Volume'] == 0]"
   ]
  },
  {
   "cell_type": "code",
   "execution_count": 10,
   "id": "8370623a-c10d-47cd-981c-1ed42b6efc99",
   "metadata": {},
   "outputs": [
    {
     "data": {
      "text/html": [
       "<div>\n",
       "<style scoped>\n",
       "    .dataframe tbody tr th:only-of-type {\n",
       "        vertical-align: middle;\n",
       "    }\n",
       "\n",
       "    .dataframe tbody tr th {\n",
       "        vertical-align: top;\n",
       "    }\n",
       "\n",
       "    .dataframe thead th {\n",
       "        text-align: right;\n",
       "    }\n",
       "</style>\n",
       "<table border=\"1\" class=\"dataframe\">\n",
       "  <thead>\n",
       "    <tr style=\"text-align: right;\">\n",
       "      <th></th>\n",
       "      <th>Gmt time</th>\n",
       "      <th>Open</th>\n",
       "      <th>High</th>\n",
       "      <th>Low</th>\n",
       "      <th>Close</th>\n",
       "      <th>Volume</th>\n",
       "      <th>Date</th>\n",
       "    </tr>\n",
       "  </thead>\n",
       "  <tbody>\n",
       "    <tr>\n",
       "      <th>0</th>\n",
       "      <td>01.05.2023 00:00:00.000</td>\n",
       "      <td>1.10106</td>\n",
       "      <td>1.10143</td>\n",
       "      <td>1.10045</td>\n",
       "      <td>1.10055</td>\n",
       "      <td>8127.1401</td>\n",
       "      <td>01.05.2023</td>\n",
       "    </tr>\n",
       "    <tr>\n",
       "      <th>1</th>\n",
       "      <td>01.05.2023 01:00:00.000</td>\n",
       "      <td>1.10055</td>\n",
       "      <td>1.10084</td>\n",
       "      <td>1.10020</td>\n",
       "      <td>1.10040</td>\n",
       "      <td>7000.5898</td>\n",
       "      <td>01.05.2023</td>\n",
       "    </tr>\n",
       "    <tr>\n",
       "      <th>2</th>\n",
       "      <td>01.05.2023 02:00:00.000</td>\n",
       "      <td>1.10037</td>\n",
       "      <td>1.10081</td>\n",
       "      <td>1.10007</td>\n",
       "      <td>1.10081</td>\n",
       "      <td>3727.6499</td>\n",
       "      <td>01.05.2023</td>\n",
       "    </tr>\n",
       "    <tr>\n",
       "      <th>3</th>\n",
       "      <td>01.05.2023 03:00:00.000</td>\n",
       "      <td>1.10081</td>\n",
       "      <td>1.10140</td>\n",
       "      <td>1.10053</td>\n",
       "      <td>1.10140</td>\n",
       "      <td>4344.2002</td>\n",
       "      <td>01.05.2023</td>\n",
       "    </tr>\n",
       "    <tr>\n",
       "      <th>4</th>\n",
       "      <td>01.05.2023 04:00:00.000</td>\n",
       "      <td>1.10143</td>\n",
       "      <td>1.10143</td>\n",
       "      <td>1.10032</td>\n",
       "      <td>1.10062</td>\n",
       "      <td>4607.4600</td>\n",
       "      <td>01.05.2023</td>\n",
       "    </tr>\n",
       "  </tbody>\n",
       "</table>\n",
       "</div>"
      ],
      "text/plain": [
       "                  Gmt time     Open     High      Low    Close     Volume  \\\n",
       "0  01.05.2023 00:00:00.000  1.10106  1.10143  1.10045  1.10055  8127.1401   \n",
       "1  01.05.2023 01:00:00.000  1.10055  1.10084  1.10020  1.10040  7000.5898   \n",
       "2  01.05.2023 02:00:00.000  1.10037  1.10081  1.10007  1.10081  3727.6499   \n",
       "3  01.05.2023 03:00:00.000  1.10081  1.10140  1.10053  1.10140  4344.2002   \n",
       "4  01.05.2023 04:00:00.000  1.10143  1.10143  1.10032  1.10062  4607.4600   \n",
       "\n",
       "         Date  \n",
       "0  01.05.2023  \n",
       "1  01.05.2023  \n",
       "2  01.05.2023  \n",
       "3  01.05.2023  \n",
       "4  01.05.2023  "
      ]
     },
     "execution_count": 10,
     "metadata": {},
     "output_type": "execute_result"
    }
   ],
   "source": [
    "df_ops.head()"
   ]
  },
  {
   "cell_type": "code",
   "execution_count": null,
   "id": "b4e738bf-352c-41f8-80ff-261f041e504e",
   "metadata": {},
   "outputs": [],
   "source": []
  }
 ],
 "metadata": {
  "kernelspec": {
   "display_name": "Python 3 (ipykernel)",
   "language": "python",
   "name": "python3"
  },
  "language_info": {
   "codemirror_mode": {
    "name": "ipython",
    "version": 3
   },
   "file_extension": ".py",
   "mimetype": "text/x-python",
   "name": "python",
   "nbconvert_exporter": "python",
   "pygments_lexer": "ipython3",
   "version": "3.11.7"
  }
 },
 "nbformat": 4,
 "nbformat_minor": 5
}
